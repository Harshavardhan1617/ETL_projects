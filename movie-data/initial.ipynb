{
 "cells": [
  {
   "cell_type": "code",
   "execution_count": null,
   "id": "423e2b38",
   "metadata": {},
   "outputs": [],
   "source": [
    "import twint\n",
    "import pandas as pd\n",
    "\n",
    "# Configure Twint\n",
    "c = twint.Config()\n",
    "c.Search = \"I rated* /10 #IMDb\"\n",
    "c.Limit = 50 # number of tweets per iteration\n",
    "c.Pandas = True # return tweets in Pandas dataframe\n",
    "\n",
    "# Start the search\n",
    "tweets = twint.run.Search(c)\n",
    "\n",
    "# only select the columns of interest\n",
    "movies = tweets[['tweet','user_id','created_at']]\n",
    "\n",
    "#rename the columns \n",
    "movies.columns = ['Tweet','User_ID','Created_at']"
   ]
  }
 ],
 "metadata": {
  "kernelspec": {
   "display_name": "Python 3 (ipykernel)",
   "language": "python",
   "name": "python3"
  },
  "language_info": {
   "codemirror_mode": {
    "name": "ipython",
    "version": 3
   },
   "file_extension": ".py",
   "mimetype": "text/x-python",
   "name": "python",
   "nbconvert_exporter": "python",
   "pygments_lexer": "ipython3",
   "version": "3.9.13"
  }
 },
 "nbformat": 4,
 "nbformat_minor": 5
}
